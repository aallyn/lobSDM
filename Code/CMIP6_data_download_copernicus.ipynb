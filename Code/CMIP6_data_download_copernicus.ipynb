{
 "cells": [
  {
   "cell_type": "markdown",
   "metadata": {},
   "source": [
    "# Preliminaries\n",
    "First, need to register an account with [ECMWF](https://www.ecmwf.int/) and then with [Copernicus Climate Data Store](https://cds.climate.copernicus.eu/). From there, run the following in the terminal:\n",
    "\n",
    "`pip install cdsapi`\n",
    "\n",
    "Next, need to add your key information(found on the Copernicus Climate Data Store profile) to `~/.cdsapirc`. To do that, I did\n",
    "\n",
    "`nano ./cdsapirc`\n",
    "\n",
    "With the following text:\n",
    "url: https://cds.climate.copernicus.eu/api\n",
    "key: <your-api-key>\n",
    "\n",
    "Also make sure it is readable only by you for security reasons by doing\n",
    "`chmod 600 ~/.cdsapirc`\n",
    "\n",
    "With that done, time to check the setup.\n"
   ]
  },
  {
   "cell_type": "code",
   "execution_count": 1,
   "metadata": {},
   "outputs": [
    {
     "name": "stderr",
     "output_type": "stream",
     "text": [
      "2024-11-19 11:55:07,073 WARNING [2024-11-19T00:00:00] System is in degraded status due to issues affecting the underlaying infrastructure. Please check updated status [here](https://status.ecmwf.int/)\n",
      "2024-11-19 11:55:07,074 INFO [2024-09-28T00:00:00] **Welcome to the New Climate Data Store (CDS)!** This new system is in its early days of full operations and still undergoing enhancements and fine tuning. Some disruptions are to be expected. Your \n",
      "[feedback](https://jira.ecmwf.int/plugins/servlet/desk/portal/1/create/202) is key to improve the user experience on the new CDS for the benefit of everyone. Thank you.\n",
      "2024-11-19 11:55:07,074 INFO [2024-09-26T00:00:00] Watch our [Forum](https://forum.ecmwf.int/) for Announcements, news and other discussed topics.\n",
      "2024-11-19 11:55:07,075 INFO [2024-09-16T00:00:00] Remember that you need to have an ECMWF account to use the new CDS. **Your old CDS credentials will not work in new CDS!**\n",
      "2024-11-19 11:55:07,076 WARNING [2024-06-16T00:00:00] CDS API syntax is changed and some keys or parameter names may have also changed. To avoid requests failing, please use the \"Show API request code\" tool on the dataset Download Form to check you are using the correct syntax for your API request.\n"
     ]
    },
    {
     "name": "stdout",
     "output_type": "stream",
     "text": [
      "Authentication successful!\n"
     ]
    },
    {
     "name": "stderr",
     "output_type": "stream",
     "text": [
      "2024-11-19 11:55:07,389 WARNING [2024-10-10T00:00:00] The final validated ERA5 differs from ERA5T from July 2024 until further notice - please refer to our\n",
      "[Forum announcement](https://forum.ecmwf.int/t/final-validated-era5-product-to-differ-from-era5t-in-july-2024/6685)\n",
      "for details and watch it for further updates on this.\n",
      "2024-11-19 11:55:07,391 INFO Request ID is 628a8a7e-fc75-4a98-9f44-4afe69948b29\n",
      "2024-11-19 11:55:07,538 INFO status has been updated to accepted\n",
      "2024-11-19 12:01:27,920 INFO status has been updated to successful\n",
      "                                                                                         \r"
     ]
    },
    {
     "data": {
      "text/plain": [
       "'fe2acbf755a9c1c5ad065d4875249c64.nc'"
      ]
     },
     "execution_count": 1,
     "metadata": {},
     "output_type": "execute_result"
    }
   ],
   "source": [
    "import cdsapi\n",
    "\n",
    "client = cdsapi.Client()\n",
    "print(\"Authentication successful!\")\n",
    "  \n",
    "dataset = \"reanalysis-era5-pressure-levels\"\n",
    "request = {\n",
    "    \"product_type\": [\"reanalysis\"],\n",
    "    \"variable\": [\"geopotential\"],\n",
    "    \"year\": [\"2024\"],\n",
    "    \"month\": [\"03\"],\n",
    "    \"day\": [\"01\"],\n",
    "    \"time\": [\"13:00\"],\n",
    "    \"pressure_level\": [\"1000\"],\n",
    "    \"data_format\": \"netcdf\",\n",
    "    \"download_format\": \"unarchived\"\n",
    "}\n",
    "client.retrieve(dataset, request).download()\n"
   ]
  },
  {
   "cell_type": "markdown",
   "metadata": {},
   "source": [
    "# Creating the batch list of files to download\n",
    "This was a nightmare and I have tried a bunch of different ways of doing it. "
   ]
  },
  {
   "cell_type": "code",
   "execution_count": null,
   "metadata": {},
   "outputs": [],
   "source": [
    "# Load metadata from the JSON file\n",
    "import json\n",
    "\n",
    "# Path to your JSON file\n",
    "file_path = \"/Users/aallyn/GitHub/lobSDM/Code/cmip6_input_copernicus.json\"\n",
    "\n",
    "# Open and load the JSON file\n",
    "with open(file_path, \"r\") as file:\n",
    "    metadata = json.load(file)\n",
    "    \n",
    "# Iterate over requests and download data\n",
    "for request in metadata[\"requests\"]:\n",
    "    model = request[\"model\"]\n",
    "    experiment = request[\"experiment\"]\n",
    "    variable = request[\"variable\"]\n",
    "    member_id = request[\"member_id\"]\n",
    "    area = request[\"area\"]\n",
    "    years = request[\"years\"]\n",
    "    \n",
    "    # Define output filename\n",
    "    output_file = f\"/Users/aallyn/Library/CloudStorage/Box-Box/RES_Data/CMIP6/SSP5_85/RawTmpFiles/{model}_{experiment}_{member_id}_{variable}.nc\"\n",
    "    \n",
    "    print(f\"Requesting {output_file}...\")\n",
    "    try:\n",
    "        # Submit the request to CDS\n",
    "        client.retrieve(\n",
    "            \"projections-cmip6\",\n",
    "            {\n",
    "                \"format\": \"netcdf\",\n",
    "                \"temporal_resolution\": \"monthly\",\n",
    "                \"experiment\": experiment,\n",
    "                \"model\": model,\n",
    "                \"ensemble_member\": member_id,\n",
    "                \"variable\": variable,\n",
    "                \"area\": area,\n",
    "                \"years\": years,\n",
    "                \"data_format\": \"netcdf\",\n",
    "                \"download_format\": \"unarchived\"\n",
    "            },\n",
    "            output_file\n",
    "        )\n",
    "        print(f\"Downloaded {output_file}\")\n",
    "    except Exception as e:\n",
    "        print(f\"Failed to download {output_file}: {e}\")"
   ]
  }
 ],
 "metadata": {
  "kernelspec": {
   "display_name": ".venv",
   "language": "python",
   "name": "python3"
  },
  "language_info": {
   "codemirror_mode": {
    "name": "ipython",
    "version": 3
   },
   "file_extension": ".py",
   "mimetype": "text/x-python",
   "name": "python",
   "nbconvert_exporter": "python",
   "pygments_lexer": "ipython3",
   "version": "3.12.7"
  }
 },
 "nbformat": 4,
 "nbformat_minor": 2
}
