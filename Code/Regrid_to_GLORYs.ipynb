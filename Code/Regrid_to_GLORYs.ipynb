{
 "cells": [
  {
   "cell_type": "markdown",
   "metadata": {},
   "source": [
    "# Regridding CMIP6 to Common GLORYSs 1/12th Degree Grid\n",
    "\n",
    "This is a port of `Regrid_script.py`, which was originally used for regridding to OISST & SODA reference grids. The approach used climate data operator (cdo) tools to perform a batch regridding on files stored in `RawTmpFiles/` directory. After this step CMIP6 files gain a prefix `GlorysGrid__` which indicates that they are on a standard grid"
   ]
  },
  {
   "cell_type": "code",
   "execution_count": 1,
   "metadata": {},
   "outputs": [
    {
     "ename": "ModuleNotFoundError",
     "evalue": "No module named 'cdo'",
     "output_type": "error",
     "traceback": [
      "\u001b[0;31m---------------------------------------------------------------------------\u001b[0m",
      "\u001b[0;31mModuleNotFoundError\u001b[0m                       Traceback (most recent call last)",
      "Cell \u001b[0;32mIn[1], line 1\u001b[0m\n\u001b[0;32m----> 1\u001b[0m \u001b[38;5;28;01mimport\u001b[39;00m \u001b[38;5;21;01mcdo\u001b[39;00m              \u001b[38;5;66;03m# for the cdo tools\u001b[39;00m\n\u001b[1;32m      2\u001b[0m \u001b[38;5;28;01mimport\u001b[39;00m \u001b[38;5;21;01mglob\u001b[39;00m             \u001b[38;5;66;03m# for file listing\u001b[39;00m\n\u001b[1;32m      3\u001b[0m \u001b[38;5;28;01mimport\u001b[39;00m \u001b[38;5;21;01mxarray\u001b[39;00m \u001b[38;5;28;01mas\u001b[39;00m \u001b[38;5;21;01mxr\u001b[39;00m     \u001b[38;5;66;03m# for netcdfs\u001b[39;00m\n",
      "\u001b[0;31mModuleNotFoundError\u001b[0m: No module named 'cdo'"
     ]
    }
   ],
   "source": [
    "import cdo              # for the cdo tools\n",
    "import glob             # for file listing\n",
    "import xarray as xr     # for netcdfs\n",
    "import numpy as np      # array tools\n",
    "import fcts             # local functions\n",
    "import os\n",
    "# import re\n",
    "# import shutil\n",
    "import xesmf as xe"
   ]
  },
  {
   "cell_type": "code",
   "execution_count": 3,
   "metadata": {},
   "outputs": [
    {
     "ename": "NameError",
     "evalue": "name 'cdo' is not defined",
     "output_type": "error",
     "traceback": [
      "\u001b[0;31m---------------------------------------------------------------------------\u001b[0m",
      "\u001b[0;31mNameError\u001b[0m                                 Traceback (most recent call last)",
      "Cell \u001b[0;32mIn[3], line 2\u001b[0m\n\u001b[1;32m      1\u001b[0m \u001b[38;5;66;03m# need to initialize a cdo object\u001b[39;00m\n\u001b[0;32m----> 2\u001b[0m cdo \u001b[38;5;241m=\u001b[39m \u001b[43mcdo\u001b[49m\u001b[38;5;241m.\u001b[39mCdo()                      \n\u001b[1;32m      4\u001b[0m \u001b[38;5;66;03m# User info for paths to data and for exporting:\u001b[39;00m\n\u001b[1;32m      5\u001b[0m UsrName          \u001b[38;5;241m=\u001b[39m \u001b[38;5;124m'\u001b[39m\u001b[38;5;124madamkemberling\u001b[39m\u001b[38;5;124m'\u001b[39m\n",
      "\u001b[0;31mNameError\u001b[0m: name 'cdo' is not defined"
     ]
    }
   ],
   "source": [
    "# need to initialize a cdo object\n",
    "cdo = cdo.Cdo()                      \n",
    "\n",
    "# User info for paths to data and for exporting:\n",
    "UsrName          = 'adamkemberling'\n",
    "Group            = 'RES_Data'\n",
    "Folder           = 'CMIP6/'\n",
    "Experiment       = 'ssp585'\n",
    "ExperimentFolder = 'CMIP6/SSP5_85/'\n",
    "\n",
    "CMIPpath = fcts.shared_path(user_name = UsrName, group = Group, folder = Folder)\n",
    "ExperimentPath = fcts.shared_path(user_name = UsrName, group = Group, folder = ExperimentFolder)"
   ]
  },
  {
   "cell_type": "code",
   "execution_count": 1,
   "metadata": {},
   "outputs": [
    {
     "ename": "NameError",
     "evalue": "name 'fcts' is not defined",
     "output_type": "error",
     "traceback": [
      "\u001b[0;31m---------------------------------------------------------------------------\u001b[0m",
      "\u001b[0;31mNameError\u001b[0m                                 Traceback (most recent call last)",
      "Cell \u001b[0;32mIn[1], line 2\u001b[0m\n\u001b[1;32m      1\u001b[0m \u001b[38;5;66;03m# Load the reference grid we want to regrid to\u001b[39;00m\n\u001b[0;32m----> 2\u001b[0m glorys_path \u001b[38;5;241m=\u001b[39m \u001b[43mfcts\u001b[49m\u001b[38;5;241m.\u001b[39mshared_path(user_name \u001b[38;5;241m=\u001b[39m UsrName, group \u001b[38;5;241m=\u001b[39m Group, folder \u001b[38;5;241m=\u001b[39m \u001b[38;5;124m\"\u001b[39m\u001b[38;5;124mGLORYs/NW_Atl_MonthlyTemps\u001b[39m\u001b[38;5;124m\"\u001b[39m)\n\u001b[1;32m      3\u001b[0m glorys_path\n\u001b[1;32m      4\u001b[0m \u001b[38;5;66;03m#glorys_grid = xr.open_dataset(f\"{glorys_path}Climatology1993to2023.nc\")\u001b[39;00m\n",
      "\u001b[0;31mNameError\u001b[0m: name 'fcts' is not defined"
     ]
    }
   ],
   "source": [
    "# Load the reference grid we want to regrid to\n",
    "glorys_path = fcts.shared_path(user_name = UsrName, group = Group, folder = \"GLORYs/NW_Atl_MonthlyTemps\")\n",
    "glorys_path\n",
    "#glorys_grid = xr.open_dataset(f\"{glorys_path}Climatology1993to2023.nc\")"
   ]
  },
  {
   "cell_type": "markdown",
   "metadata": {},
   "source": [
    "## Regrid TOS"
   ]
  },
  {
   "cell_type": "code",
   "execution_count": null,
   "metadata": {},
   "outputs": [],
   "source": [
    "dsTOS = glob.glob(f'{ExperimentPath}RawTmpFiles/tos*_{Experiment}*')\n",
    "dsTOS = glob.glob(f'{ExperimentPath}RawTmpFiles/tos*_historical*')\n",
    "\n",
    "for file in dsTOS:\n",
    "    gridfi = f'{CMIPpath}GridFiles/OISST_grid.nc'\n",
    "    base_filename = os.path.basename(file)\n",
    "    fileout = f'{ExperimentPath}SST/tmpfiles/GlorysGrid_{base_filename}'\n",
    "    cdo.remapdis(gridfi,  input=file, output=fileout, options='-f nc')\n",
    "    ds = xr.open_dataset(fileout)\n",
    "    savepath = f'{ExperimentPath}SST/GlorysGrid/GlorysGrid_{base_filename}'\n",
    "    ds_cropped = ds.sel(lon=slice(260, 320), lat=slice(20, 70))\n",
    "    ds_cropped.to_netcdf(savepath)\n",
    "    os.remove(fileout)\n",
    "    print(f'Completed regridding {base_filename} out of {str(len(dsTOS))}')"
   ]
  },
  {
   "cell_type": "markdown",
   "metadata": {},
   "source": [
    "## Regrid Thetao"
   ]
  },
  {
   "cell_type": "code",
   "execution_count": null,
   "metadata": {},
   "outputs": [],
   "source": [
    "dsThetao = glob.glob(f'{ExperimentPath}RawTmpFiles/thetao*_{Experiment}*')\n",
    "dsThetao = glob.glob(f'{ExperimentPath}RawTmpFiles/thetao*_historical*')\n",
    "file = \"/Users/adamkemberling/Library/CloudStorage/Box-Box/RES_Data/CMIP6/RawTmpFiles/thetao_CESM2_r4i1p1f1_historical.nc\"\n",
    "\n",
    "## Completed regridding thetao_MRI-ESM2-0_r1i1p1f1_ssp126.nc out of 26 need to find more space to run on box\n",
    "for file in dsThetao:\n",
    "    gridfi = f'{CMIPpath}GridFiles/SODA_grid.nc'\n",
    "    base_filename = os.path.basename(file)\n",
    "    fileout = f'{ExperimentPath}BottomT/tmpfiles/GlorysGrid_{base_filename}'\n",
    "    cdo.remapdis(gridfi,  input=file, output=fileout, options='-f nc')\n",
    "    ds = xr.open_dataset(fileout)\n",
    "    savepath = f'{ExperimentPath}BottomT/GlorysGrid/GlorysGrid_{base_filename}'\n",
    "    ds_cropped = ds.sel(longitude=slice(260, 320), latitude=slice(20, 70))\n",
    "    #ds_cropped = ds_cropped.isel(time=slice(None, 1032))\n",
    "    ds_cropped.to_netcdf(savepath)\n",
    "    os.remove(fileout)\n",
    "    print(f'Completed regridding {base_filename} out of {str(len(dsThetao))}')"
   ]
  },
  {
   "cell_type": "markdown",
   "metadata": {},
   "source": [
    "## Regrid So"
   ]
  },
  {
   "cell_type": "code",
   "execution_count": null,
   "metadata": {},
   "outputs": [],
   "source": [
    "dsSO = glob.glob(f'{ExperimentPath}RawTmpFiles/so*_{Experiment}*')\n",
    "dsSO = glob.glob(f'{ExperimentPath}RawTmpFiles/so*_historical*')\n",
    "file = \"/Users/adamkemberling/Library/CloudStorage/Box-Box/RES_Data/CMIP6/RawTmpFiles/so_MRI-ESM2-0_r1i1p1f1_ssp585.nc\"\n",
    "\n",
    "for file in dsSO:\n",
    "    gridfi = f'{CMIPpath}GridFiles/SODA_grid.nc'\n",
    "    base_filename = os.path.basename(file)\n",
    "    fileout = f'{ExperimentPath}BottomSal/tmpfiles/GlorysGrid_{base_filename}'\n",
    "    cdo.remapdis(gridfi,  input=file, output=fileout, options='-f nc')\n",
    "    ds = xr.open_dataset(fileout)\n",
    "    savepath = f'{ExperimentPath}BottomSal/GlorysGrid/GlorysGrid_{base_filename}'\n",
    "    ds_cropped = ds.sel(longitude=slice(260, 320), latitude=slice(20, 70))\n",
    "    #ds_cropped = ds_cropped.isel(time=slice(None, 1032))\n",
    "    ds_cropped.to_netcdf(savepath)\n",
    "    os.remove(fileout)\n",
    "    print(f'Completed regridding {base_filename} out of {str(len(dsSO))}')"
   ]
  },
  {
   "cell_type": "markdown",
   "metadata": {},
   "source": [
    "## Regrid Surface SO"
   ]
  },
  {
   "cell_type": "code",
   "execution_count": null,
   "metadata": {},
   "outputs": [],
   "source": [
    "dsSurSO = glob.glob(f'{ExperimentPath}RawTmpFiles/Surface*_{Experiment}*')\n",
    "dsSurSO = glob.glob(f'{ExperimentPath}RawTmpFiles/Surface*_historical*')\n",
    "file = \"/Users/adamkemberling/Library/CloudStorage/Box-Box/RES_Data/CMIP6/RawTmpFiles/Surface_so_MRI-ESM2-0_r1i1p1f1_ssp585.nc\"\n",
    "\n",
    "for file in dsSurSO:\n",
    "    gridfi = f'{CMIPpath}GridFiles/SODA_grid.nc'\n",
    "    base_filename = os.path.basename(file)\n",
    "    fileout = f'{ExperimentPath}SurSalinity/tmpfiles/GlorysGrid_{base_filename}'\n",
    "    cdo.remapdis(gridfi,  input=file, output=fileout, options='-f nc')\n",
    "    ds = xr.open_dataset(fileout, decode_times=False)\n",
    "    savepath = f'{ExperimentPath}SurSalinity/GlorysGrid/GlorysGrid_{base_filename}'\n",
    "    ds_cropped = ds.sel(longitude=slice(260, 320), latitude=slice(20, 70))\n",
    "    ds_cropped.to_netcdf(savepath)\n",
    "    os.remove(fileout)\n",
    "    print(f'Completed regridding {base_filename} out of {str(len(dsSurSO))}')\n"
   ]
  }
 ],
 "metadata": {
  "language_info": {
   "name": "python"
  }
 },
 "nbformat": 4,
 "nbformat_minor": 2
}
